{
 "cells": [
  {
   "cell_type": "markdown",
   "metadata": {},
   "source": [
    "# Calibraçao de camera\n",
    "Arthur Phillip F Silva\n",
    "\n",
    "### Aparelho\n",
    "marca: Xaomi  \n",
    "modelo: Redmi note 4  \n",
    "distancia focal: 2,0"
   ]
  },
  {
   "cell_type": "markdown",
   "metadata": {},
   "source": [
    "Via MATLAB\n",
    "\n",
    "Focal Length:          fc = [ 3227.50267   3225.56410 ] +/- [ 38.65177   37.93484 ]  \n",
    "Principal point:       cc = [ 1522.98888   2098.57253 ] +/- [ 15.24708   27.60688 ]  \n",
    "Skew:             alpha_c = [ 0.00000 ] +/- [ 0.00000  ]   => angle of pixel axes = 90.00000 +/- 0.00000 degrees  \n",
    "Distortion:            kc = [ 0.14693   -0.24670   0.00002   -0.00555  0.00000 ] +/- [ 0.01481   0.03086   0.00221   0.00188  0.00000 ]  \n",
    "Pixel error:          err = [ 3.11898   3.09139 ]\n",
    "\n"
   ]
  },
  {
   "cell_type": "markdown",
   "metadata": {},
   "source": [
    "Via Calculo simples\n",
    "\n",
    "Livro 145 x 220 mm  \n",
    "Imagem do livro 1338 x 2060 px  \n",
    "Distancia da camera 345 mm  \n",
    "\n",
    "distancia focal:  \n",
    "fx = 3183,5  \n",
    "fy = 3230,5"
   ]
  }
 ],
 "metadata": {
  "kernelspec": {
   "display_name": "Python 3",
   "language": "python",
   "name": "python3"
  },
  "language_info": {
   "codemirror_mode": {
    "name": "ipython",
    "version": 3
   },
   "file_extension": ".py",
   "mimetype": "text/x-python",
   "name": "python",
   "nbconvert_exporter": "python",
   "pygments_lexer": "ipython3",
   "version": "3.6.8"
  }
 },
 "nbformat": 4,
 "nbformat_minor": 2
}
