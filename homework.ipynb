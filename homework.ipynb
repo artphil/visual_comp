{
 "cells": [
  {
   "cell_type": "markdown",
   "metadata": {},
   "source": [
    "# Exercícios"
   ]
  },
  {
   "cell_type": "code",
   "execution_count": 1,
   "metadata": {},
   "outputs": [
    {
     "name": "stdout",
     "output_type": "stream",
     "text": [
      "Python version: 3.6.8 |Anaconda, Inc.| (default, Dec 30 2018, 01:22:34) \n",
      "[GCC 7.3.0]\n",
      "Opencv version: 4.1.1\n",
      "Numpy version: 1.15.1\n",
      "Matplotlib version: 2.2.3\n"
     ]
    }
   ],
   "source": [
    "import cv2\n",
    "import numpy as np\n",
    "import sys\n",
    "import matplotlib as plt\n",
    "\n",
    "print('Python version:', sys.version)\n",
    "print('Opencv version:', cv2.__version__)\n",
    "print('Numpy version:', np.__version__)\n",
    "print('Matplotlib version:', plt.__version__)\n"
   ]
  },
  {
   "cell_type": "code",
   "execution_count": 2,
   "metadata": {},
   "outputs": [],
   "source": [
    "# cv2.IMREAD_COLOR : Loads a color image. Any\n",
    "# transparency of image will be neglected (default)\n",
    "# cv2.IMREAD_GRAYSCALE : Loads image in grayscale mode\n",
    "# cv2.IMREAD_UNCHANGED : Loads image as such including\n",
    "# alpha channel\n",
    "img = cv2.imread('tesla.jpg', cv2.IMREAD_COLOR)"
   ]
  },
  {
   "cell_type": "code",
   "execution_count": 3,
   "metadata": {},
   "outputs": [],
   "source": [
    "#By default, the flag is cv2.WINDOW_AUTOSIZE.\n",
    "#But if you specify flag to be cv2.WINDOW_NORMAL,\n",
    "#you can resize window (helpful when image is too large)\n",
    "cv2.imshow('image',img)\n",
    "\n",
    "k = cv2.waitKey(0)\n",
    "if k == 27: # wait for ESC key to exit\n",
    "    cv2.destroyAllWindows()\n",
    "elif k == ord('s'): # wait for 's' key to save and exit\n",
    "    cv2.imwrite('car.jpg',img)\n",
    "    cv2.destroyAllWindows()"
   ]
  },
  {
   "cell_type": "code",
   "execution_count": 3,
   "metadata": {},
   "outputs": [
    {
     "ename": "AttributeError",
     "evalue": "module 'matplotlib' has no attribute 'imshow'",
     "output_type": "error",
     "traceback": [
      "\u001b[0;31m---------------------------------------------------------------------------\u001b[0m",
      "\u001b[0;31mAttributeError\u001b[0m                            Traceback (most recent call last)",
      "\u001b[0;32m<ipython-input-3-92d9054292ef>\u001b[0m in \u001b[0;36m<module>\u001b[0;34m()\u001b[0m\n\u001b[1;32m      1\u001b[0m \u001b[0mimg2\u001b[0m \u001b[0;34m=\u001b[0m \u001b[0mcv2\u001b[0m\u001b[0;34m.\u001b[0m\u001b[0mimread\u001b[0m\u001b[0;34m(\u001b[0m\u001b[0;34m'lenna.png'\u001b[0m\u001b[0;34m,\u001b[0m \u001b[0mcv2\u001b[0m\u001b[0;34m.\u001b[0m\u001b[0mIMREAD_COLOR\u001b[0m\u001b[0;34m)\u001b[0m\u001b[0;34m\u001b[0m\u001b[0;34m\u001b[0m\u001b[0m\n\u001b[1;32m      2\u001b[0m \u001b[0mimg_rgb\u001b[0m \u001b[0;34m=\u001b[0m \u001b[0mcv2\u001b[0m\u001b[0;34m.\u001b[0m\u001b[0mcvtColor\u001b[0m\u001b[0;34m(\u001b[0m\u001b[0mimg2\u001b[0m\u001b[0;34m,\u001b[0m \u001b[0mcv2\u001b[0m\u001b[0;34m.\u001b[0m\u001b[0mCOLOR_BGR2RGB\u001b[0m\u001b[0;34m)\u001b[0m\u001b[0;34m\u001b[0m\u001b[0;34m\u001b[0m\u001b[0m\n\u001b[0;32m----> 3\u001b[0;31m \u001b[0mplt\u001b[0m\u001b[0;34m.\u001b[0m\u001b[0mimshow\u001b[0m\u001b[0;34m(\u001b[0m\u001b[0mimg_rgb\u001b[0m\u001b[0;34m)\u001b[0m\u001b[0;34m\u001b[0m\u001b[0;34m\u001b[0m\u001b[0m\n\u001b[0m",
      "\u001b[0;31mAttributeError\u001b[0m: module 'matplotlib' has no attribute 'imshow'"
     ]
    }
   ],
   "source": [
    "img2 = cv2.imread('lenna.png', cv2.IMREAD_COLOR)\n",
    "img_rgb = cv2.cvtColor(img2, cv2.COLOR_BGR2RGB)\n",
    "plt.imshow(img_rgb)"
   ]
  },
  {
   "cell_type": "code",
   "execution_count": null,
   "metadata": {},
   "outputs": [],
   "source": [
    "# cv2.BORDER_CONSTANT - Adds a constant colored border. The value should be given as next argument.\n",
    "# cv2.BORDER_REFLECT - Border will be mirror reflection of the border elements, like this : fedcba|abcdefgh|hgfedcb\n",
    "# cv2.BORDER_REFLECT_101 or cv2.BORDER_DEFAULT - Same as above, but with a slight change, like this : gfedcb|abcdefgh|gfedcba\n",
    "# cv2.BORDER_REPLICATE - Last element is replicated throughout, like this: aaaaaa|abcdefgh|hhhhhhh\n",
    "# cv2.BORDER_WRAP - Can’t explain, it will look like this : cdefgh|abcdefgh|abcdefg\n",
    "#value - Color of border if border type is cv2.BORDER_CONSTANT\n",
    "\n",
    "BLUE = [255,0,0]\n",
    "img1 = cv2.imread('lenna.jpg', cv2.IMREAD_COLOR)\n",
    "replicate = cv2.copyMakeBorder(img1,80,80,80,80,cv2.BORDER_REPLICATE)\n",
    "reflect = cv2.copyMakeBorder(img1,80,80,80,80,cv2.BORDER_REFLECT)\n",
    "reflect101 = cv2.copyMakeBorder(img1,80,80,80,80,cv2.BORDER_REFLECT_101)\n",
    "wrap = cv2.copyMakeBorder(img1,80,80,80,80,cv2.BORDER_WRAP)\n",
    "constant= cv2.copyMakeBorder(img1,80,80,80,80,cv2.BORDER_CONSTANT,value=BLUE)\n",
    "\n",
    "plt.subplot(231),plt.imshow(\n",
    "cv2.cvtColor(img1, cv2.COLOR_BGR2RGB)),plt.title('ORIGINAL')\n",
    "plt.xticks([]), plt.yticks([]) # to hide tick values on X and Y axis\n",
    "\n",
    "plt.subplot(232),plt.imshow(cv2.cvtColor(replicate,\n",
    "cv2.COLOR_BGR2RGB)),plt.title('REPLICATE')\n",
    "plt.xticks([]), plt.yticks([]) # to hide tick values on X and  Y axis\n",
    "\n",
    "plt.subplot(233),plt.imshow(cv2.cvtColor(reflect,\n",
    "cv2.COLOR_BGR2RGB)),plt.title('REFLECT')\n",
    "plt.xticks([]), plt.yticks([]) # to hide tick values on X and Y axis\n",
    "\n",
    "plt.subplot(234),plt.imshow(cv2.cvtColor(reflect101,\n",
    "cv2.COLOR_BGR2RGB)),plt.title('REFLECT_101')\n",
    "plt.xticks([]), plt.yticks([]) # to hide tick values on X and Y axis\n",
    "\n",
    "plt.subplot(235),plt.imshow(cv2.cvtColor(wrap,\n",
    "cv2.COLOR_BGR2RGB)),plt.title('WRAP')\n",
    "plt.xticks([]), plt.yticks([]) # to hide tick values on X and Y axis\n",
    "\n",
    "plt.subplot(236),plt.imshow(cv2.cvtColor(constant,\n",
    "cv2.COLOR_BGR2RGB)),plt.title('CONSTANT')\n",
    "plt.xticks([]), plt.yticks([]) # to hide tick values on X and Y axis\n",
    "\n",
    "plt.show()"
   ]
  }
 ],
 "metadata": {
  "kernelspec": {
   "display_name": "Python 3",
   "language": "python",
   "name": "python3"
  },
  "language_info": {
   "codemirror_mode": {
    "name": "ipython",
    "version": 3
   },
   "file_extension": ".py",
   "mimetype": "text/x-python",
   "name": "python",
   "nbconvert_exporter": "python",
   "pygments_lexer": "ipython3",
   "version": "3.6.8"
  }
 },
 "nbformat": 4,
 "nbformat_minor": 2
}
